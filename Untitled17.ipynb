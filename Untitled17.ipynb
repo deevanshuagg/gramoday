{
 "cells": [
  {
   "cell_type": "code",
   "execution_count": null,
   "metadata": {},
   "outputs": [],
   "source": [
    "import pandas as pd\n",
    "import datetime as dt\n",
    "sdate = dt.date(2020,1,1)\n",
    "edate = dt.date(2020,12,31)\n",
    "x=[]\n",
    "for i in pd.date_range(sdate,edate,freq='d'):\n",
    "    dat=i.to_pydatetime().strftime('%d-%b-%Y')\n",
    "    url='https://agmarknet.gov.in/SearchCmmMkt.aspx?Tx_Commodity=24&Tx_State=UP&Tx_District=1&Tx_Market=0&DateFrom='+str(dat)+'&DateTo='+str(dat)+'&Fr_Date='+str(dat)+'&To_Date='+str(dat)+'&Tx_Trend=2&Tx_CommodityHead=Potato&Tx_StateHead=Uttar+Pradesh&Tx_DistrictHead=Agra&Tx_MarketHead=--Select--'\n",
    "    df = pd.read_html(url)\n",
    "    df1=df[0]\n",
    "    df2=df1[:-2]\n",
    "    del df2['State Name']\n",
    "    df2.index = df2.index + 1\n",
    "    df2.reset_index(inplace=True)\n",
    "    df2.rename(columns= {'index' : 'S_Number'},inplace=True)\n",
    "    df2=df2.drop(['Group','Arrivals (Tonnes)'],axis=1)\n",
    "    x.append(df2)\n",
    "x"
   ]
  },
  {
   "cell_type": "code",
   "execution_count": null,
   "metadata": {},
   "outputs": [],
   "source": []
  },
  {
   "cell_type": "code",
   "execution_count": null,
   "metadata": {},
   "outputs": [],
   "source": []
  }
 ],
 "metadata": {
  "kernelspec": {
   "display_name": "Python 3",
   "language": "python",
   "name": "python3"
  },
  "language_info": {
   "codemirror_mode": {
    "name": "ipython",
    "version": 3
   },
   "file_extension": ".py",
   "mimetype": "text/x-python",
   "name": "python",
   "nbconvert_exporter": "python",
   "pygments_lexer": "ipython3",
   "version": "3.8.3"
  }
 },
 "nbformat": 4,
 "nbformat_minor": 4
}
